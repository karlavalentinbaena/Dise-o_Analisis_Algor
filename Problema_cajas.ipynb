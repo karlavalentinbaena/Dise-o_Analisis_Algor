{
  "nbformat": 4,
  "nbformat_minor": 0,
  "metadata": {
    "colab": {
      "provenance": [],
      "authorship_tag": "ABX9TyNOYKQ7xbk8/iIV1AtuUb92",
      "include_colab_link": true
    },
    "kernelspec": {
      "name": "python3",
      "display_name": "Python 3"
    },
    "language_info": {
      "name": "python"
    }
  },
  "cells": [
    {
      "cell_type": "markdown",
      "metadata": {
        "id": "view-in-github",
        "colab_type": "text"
      },
      "source": [
        "<a href=\"https://colab.research.google.com/github/karlavalentinbaena/Problema_cajas/blob/main/Problema_cajas.ipynb\" target=\"_parent\"><img src=\"https://colab.research.google.com/assets/colab-badge.svg\" alt=\"Open In Colab\"/></a>"
      ]
    },
    {
      "cell_type": "markdown",
      "source": [
        " # Problema de las cajas\n",
        " Sea n cantidad de cajas con dimensiones x, y ,z, respectivamente. Cada dimensión puede intercambiarse libremente (ancho - largo) (área - ancho). Encontrar un algoritmo eficiente que encuentre la torre más alta de cajas que se pueda formar, con la condición de que no pueda colocar una caja con un área mayor sobre una de menor área.\n",
        "\n",
        "\n",
        "\n",
        "*   Inicio\n",
        "*   Crear una lista para representar las cajas y contenga número enteros que representen las dimensiones.\n",
        "*   Crear función 'calcular' que crea un diccionario de las áreas y crea una lista de alturas.\n",
        "*   Se ordenan las areas calculadas y se almacenan en una lista basadas en la más grande.\n",
        "* Se llama a las funiones calcularAreas y ordenarAreas.\n",
        "* Se imprime el resultado.\n",
        "* Fin\n",
        "\n",
        "\n",
        "\n",
        "\n",
        "\n",
        "\n",
        "\n"
      ],
      "metadata": {
        "id": "TRbWkLK2Kb6Z"
      }
    },
    {
      "cell_type": "code",
      "execution_count": 4,
      "metadata": {
        "colab": {
          "base_uri": "https://localhost:8080/"
        },
        "id": "AcGpb3K_Iku5",
        "outputId": "54a0bd5a-bc6d-49c7-ea93-719e57fd34ed"
      },
      "outputs": [
        {
          "output_type": "stream",
          "name": "stdout",
          "text": [
            "[[63, 9, 2], [56, 8, 4], [35, 6, 3], [32, 5, 4], [32, 5, 8], [32, 8, 7], [28, 8, 7], [27, 4, 1], [24, 2, 3], [21, 0, 1], [21, 6, 7], [18, 2, 4], [18, 3, 2], [18, 7, 1], [18, 9, 7], [16, 5, 4], [15, 6, 3], [14, 9, 9], [12, 2, 4], [12, 3, 3], [9, 4, 3], [9, 7, 1], [7, 0, 1], [6, 3, 3], [4, 1, 1], [4, 1, 1], [3, 0, 1], [3, 4, 3], [2, 7, 1], [1, 1, 4]]\n"
          ]
        }
      ],
      "source": [
        "Dim=[[3,7,1],\n",
        "   [1,1,4],\n",
        "   [6,3,4],\n",
        "   [2,6,3],\n",
        "   [1,9,3],\n",
        "   [8,4,4],\n",
        "   [7,5,3],\n",
        "   [2,9,1],\n",
        "   [4,8,7],\n",
        "   [7,2,9]]\n",
        "\n",
        "def calculaAreas(Dim):\n",
        "    Areas={}\n",
        "    alturas = []\n",
        "    for i in range(len(Dim)):\n",
        "        A1=Dim[i][0]*Dim[i][1]\n",
        "        A2=Dim[i][1]*Dim[i][2]\n",
        "        A3=Dim[i][2]*Dim[i][0]\n",
        "        Areas[i]=[A1,A2,A3]\n",
        "        alturas.append([Dim[i][2],Dim[i][0],Dim[i][1]])\n",
        "    return Areas,alturas\n",
        "\n",
        "def ordenaAreas(Areas,alturas):\n",
        "    orden=[]\n",
        "    for i in range(30):\n",
        "        Caja = 0\n",
        "        Valor = 0\n",
        "        altura = 0\n",
        "        for j in range(10):\n",
        "            for k in range(len(Areas[j])):\n",
        "                if(Areas[j][k]>Valor):\n",
        "                    Caja=j\n",
        "                    Valor=Areas[j][k]\n",
        "                    altura = alturas[j][k]\n",
        "        orden.append([Valor,Caja,altura])\n",
        "        Areas[Caja].remove(Valor)\n",
        "    return orden\n",
        "\n",
        "Areas,alturas=calculaAreas(Dim)\n",
        "orden=ordenaAreas(Areas,alturas)\n",
        "\n",
        "print(orden)"
      ]
    }
  ]
}