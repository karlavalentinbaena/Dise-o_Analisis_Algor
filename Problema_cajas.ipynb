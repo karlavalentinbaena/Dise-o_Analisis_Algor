{
  "nbformat": 4,
  "nbformat_minor": 0,
  "metadata": {
    "colab": {
      "provenance": [],
      "authorship_tag": "ABX9TyNA50fwRbH8kHSrSrnl/o9r",
      "include_colab_link": true
    },
    "kernelspec": {
      "name": "python3",
      "display_name": "Python 3"
    },
    "language_info": {
      "name": "python"
    }
  },
  "cells": [
    {
      "cell_type": "markdown",
      "metadata": {
        "id": "view-in-github",
        "colab_type": "text"
      },
      "source": [
        "<a href=\"https://colab.research.google.com/github/karlavalentinbaena/Dise-o_Analisis_Algor/blob/main/Problema_cajas.ipynb\" target=\"_parent\"><img src=\"https://colab.research.google.com/assets/colab-badge.svg\" alt=\"Open In Colab\"/></a>"
      ]
    },
    {
      "cell_type": "markdown",
      "source": [
        " # Problema de las cajas\n",
        " Sea n cantidad de cajas con dimensiones x, y ,z, respectivamente. Cada dimensión puede intercambiarse libremente (ancho - largo) (área - ancho). Encontrar un algoritmo eficiente que encuentre la torre más alta de cajas que se pueda formar, con la condición de que no pueda colocar una caja con un área mayor sobre una de menor área.\n",
        "\n",
        " Costo computacional: Tiene O(n) y también O(n^2).\n",
        "\n",
        "\n",
        "\n",
        "\n",
        "\n",
        "\n",
        "\n",
        "\n",
        "\n"
      ],
      "metadata": {
        "id": "TRbWkLK2Kb6Z"
      }
    },
    {
      "cell_type": "code",
      "execution_count": 2,
      "metadata": {
        "colab": {
          "base_uri": "https://localhost:8080/"
        },
        "id": "AcGpb3K_Iku5",
        "outputId": "6389f313-0123-43e6-8fdd-f9016adce241"
      },
      "outputs": [
        {
          "output_type": "stream",
          "name": "stdout",
          "text": [
            "[[63, 9, 2], [56, 8, 4], [35, 6, 3], [32, 5, 4], [32, 5, 8], [32, 8, 7], [28, 8, 7], [27, 4, 1], [24, 2, 3], [21, 0, 1]]\n"
          ]
        }
      ],
      "source": [
        "#Dimnsiones de 10 cajas (longitud, ancho, altura)\n",
        "Dim=[[3,7,1],\n",
        "   [1,1,4],\n",
        "   [6,3,4],\n",
        "   [2,6,3],\n",
        "   [1,9,3],\n",
        "   [8,4,4],\n",
        "   [7,5,3],\n",
        "   [2,9,1],\n",
        "   [4,8,7],\n",
        "   [7,2,9]]\n",
        "\n",
        "#Se calculan areas de cada caja\n",
        "def calculaAreas(Dim): #costo O(n)\n",
        "    Areas={}\n",
        "    alturas = []\n",
        "    for i in range(len(Dim)):\n",
        "        A1=Dim[i][0]*Dim[i][1]\n",
        "        A2=Dim[i][1]*Dim[i][2]\n",
        "        A3=Dim[i][2]*Dim[i][0]\n",
        "        Areas[i]=[A1,A2,A3] #Se almacena aqui\n",
        "        alturas.append([Dim[i][2],Dim[i][0],Dim[i][1]]) #Almacena alturas de las cajas\n",
        "    return Areas,alturas #Devuelve areas y alturas\n",
        "\n",
        "def ordenaAreas(Areas,alturas): #costo O(n^2)\n",
        "    orden=[]\n",
        "    for i in range(10): #Se ejecuta 10 veces\n",
        "        Caja = 0 #Se va a almacenar elindice de la caja con area mayor\n",
        "        Valor = 0 #Valor de area más grande\n",
        "        altura = 0 #Altura de la caja con area mayor\n",
        "        for j in range(10): #itera de 0 a 9\n",
        "            for k in range(len(Areas[j])): #cantdad de areas para las cajas\n",
        "                if(Areas[j][k]>Valor): #si el area es mayor que el valor almacenado seejecuta:\n",
        "                    #se actualizan:\n",
        "                    Caja=j\n",
        "                    Valor=Areas[j][k]\n",
        "                    altura = alturas[j][k]\n",
        "        orden.append([Valor,Caja,altura]) #se agrega la información aquí (valor, caja, altura)\n",
        "        Areas[Caja].remove(Valor) #se elimina area más grande\n",
        "    return orden\n",
        "\n",
        "Areas,alturas=calculaAreas(Dim)\n",
        "orden=ordenaAreas(Areas,alturas)\n",
        "\n",
        "print(orden)"
      ]
    }
  ]
}