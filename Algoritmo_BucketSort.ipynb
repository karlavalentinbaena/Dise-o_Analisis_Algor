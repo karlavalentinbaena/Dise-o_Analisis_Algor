{
  "nbformat": 4,
  "nbformat_minor": 0,
  "metadata": {
    "colab": {
      "provenance": [],
      "authorship_tag": "ABX9TyNAfeUiHTYwEen51AuGLyVd",
      "include_colab_link": true
    },
    "kernelspec": {
      "name": "python3",
      "display_name": "Python 3"
    },
    "language_info": {
      "name": "python"
    }
  },
  "cells": [
    {
      "cell_type": "markdown",
      "metadata": {
        "id": "view-in-github",
        "colab_type": "text"
      },
      "source": [
        "<a href=\"https://colab.research.google.com/github/karlavalentinbaena/Dise-o_Analisis_Algor/blob/main/Algoritmo_BucketSort.ipynb\" target=\"_parent\"><img src=\"https://colab.research.google.com/assets/colab-badge.svg\" alt=\"Open In Colab\"/></a>"
      ]
    },
    {
      "cell_type": "markdown",
      "source": [
        "#Bucket Sort\n",
        "El código se hizo usando lo visto en clase.\n",
        "\n",
        "Costo computacional: en el mejor de los casos, se podría decir que es lineal O(n). Si es que se distribuyen de manera equitativa en recipientes.\n",
        "En otro caso, podria ser cuadrático O(n^2) porque se podrian alamacenar en un solo recipiente, según un video que ví.\n",
        "\n",
        "\n"
      ],
      "metadata": {
        "id": "tozN6wudAoZh"
      }
    },
    {
      "cell_type": "code",
      "source": [
        "#El código se hizo usando lo visto en clase.\n",
        "\n",
        "#Costo computacional: en el mejor de los casos, se podría decir que es lineal O(n). Si es que se distribuyen de manera equitativa en recipientes.\n",
        "#En otro caso, podria ser cuadrático O(n^2) porque se podrian alamacenar en un solo recipiente, según un video que ví.\n",
        "\n",
        "import numpy as rnd #Se importa la biblioteca\n",
        "\n",
        "def ordenada(Lista): #se define la lista\n",
        "    for i in range(len(Lista)-1): #Se recorre la lista hasta -1\n",
        "    #Se compara el número en la posición i, para ver si es mayor que el elm i+1\n",
        "        if(Lista[i]>Lista[i+1]):\n",
        "            return False #sino está ordenada\n",
        "    return True #si está ordenada\n",
        "\n",
        "def bogoSort(Lista):\n",
        "    cont=0 #contador en 0\n",
        "    while(not ordenada(Lista)):#se ejecuta mientras lista está desordenada\n",
        "        rnd.shuffle(Lista) #mezcla los elementos de la lista\n",
        "        cont+=1 #Se incrementa el contador\n",
        "    print(cont) #imprime el valor actual del contador\n",
        "    return Lista #regresa la lista ord\n",
        "\n",
        "def encuentraMenMay(Lista):\n",
        "    return min(Lista), max(Lista) #Devuelve el menor y mayor valor de la lista\n",
        "\n",
        "def preparaRecipientes(men,may):\n",
        "    recipientes=[] #lista vacía para organizar los números de la lista\n",
        "    #Se cuenta cuásntas veces aparece los números en la lista\n",
        "    for i in range((may - men)+1):\n",
        "        recipientes.append(0) #Se agrega el valor de 0\n",
        "    return recipientes\n",
        "\n",
        "def llenar(recipientes,Lista,men):\n",
        "    for e in Lista: #se recorre la lista\n",
        "    #Se calcula indice dependiendo del valor menor y después\n",
        "    #se hace un incremento\n",
        "        recipientes[e-men]+=1\n",
        "    return recipientes\n",
        "\n",
        "def revisar(recipientes, men):\n",
        "    LR = [] #se almacenan los números ya ordenados\n",
        "    for i in range(len(recipientes)): #recorre todas las cajas\n",
        "        for j in range(recipientes[i]):#se ejecuta las veces de i + men\n",
        "            LR.append(i + men) #se agrega el valor\n",
        "    return LR #retorna el valor de LR\n",
        "\n",
        "def BucketSort(Lista):\n",
        "    men,may= encuentraMenMay(Lista) #valores menor y mayor\n",
        "    recipientes=preparaRecipientes(men,may) #se llama a la función de arriba\n",
        "    recipientes=llenar(recipientes,Lista,men) #se llama a la función arriba\n",
        "    LR=revisar(recipientes,men) # lista ordenada con la frecuencia de los números\n",
        "    return LR #devuelve la lista ordenada\n",
        "#limite de numero del 1 al 1000 y tamaño de 10 números\n",
        "Lista = rnd.random.randint(1, 1000, size=10)\n",
        "resultado = BucketSort(Lista)\n",
        "#nos da la lista original y la lista ya ordenada\n",
        "print(\"Lista original:\", Lista)\n",
        "print(\"Lista ordenada:\", resultado)\n",
        "\n"
      ],
      "metadata": {
        "colab": {
          "base_uri": "https://localhost:8080/"
        },
        "id": "5n61NmyQwLem",
        "outputId": "8a81f5c1-68b8-4e3d-8221-a52ffb36d94e"
      },
      "execution_count": 6,
      "outputs": [
        {
          "output_type": "stream",
          "name": "stdout",
          "text": [
            "Lista original: [558 680 747 452 479 208 356  38 835 730]\n",
            "Lista ordenada: [38, 208, 356, 452, 479, 558, 680, 730, 747, 835]\n"
          ]
        }
      ]
    }
  ]
}