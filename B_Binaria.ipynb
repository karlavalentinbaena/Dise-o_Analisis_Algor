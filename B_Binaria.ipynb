{
  "nbformat": 4,
  "nbformat_minor": 0,
  "metadata": {
    "colab": {
      "provenance": [],
      "authorship_tag": "ABX9TyPn+8Wl5zkBjvfeIB01guQF",
      "include_colab_link": true
    },
    "kernelspec": {
      "name": "python3",
      "display_name": "Python 3"
    },
    "language_info": {
      "name": "python"
    }
  },
  "cells": [
    {
      "cell_type": "markdown",
      "metadata": {
        "id": "view-in-github",
        "colab_type": "text"
      },
      "source": [
        "<a href=\"https://colab.research.google.com/github/karlavalentinbaena/Dise-o_Analisis_Algor/blob/main/B_Binaria.ipynb\" target=\"_parent\"><img src=\"https://colab.research.google.com/assets/colab-badge.svg\" alt=\"Open In Colab\"/></a>"
      ]
    },
    {
      "cell_type": "markdown",
      "source": [
        "#Busqueda Binaria\n",
        "Se hizo con ayuda de lo que bimos en la clase.\n",
        "Costo computacional: Tendría O(Log n), porque la lista se va dividiendo a la mitad y se elimina una por así decirlo, n representaria la longutud de la lista."
      ],
      "metadata": {
        "id": "vi3V3AnvGXQE"
      }
    },
    {
      "cell_type": "code",
      "execution_count": 19,
      "metadata": {
        "colab": {
          "base_uri": "https://localhost:8080/"
        },
        "id": "e-D_E1OFBfTa",
        "outputId": "34c1a0d5-46cb-4bf7-9065-7f48a207d14a"
      },
      "outputs": [
        {
          "output_type": "stream",
          "name": "stdout",
          "text": [
            "True.\n"
          ]
        }
      ],
      "source": [
        "#Busqueda Binaria\n",
        "\n",
        "Lista0 = [] #Lista Vacía\n",
        "\n",
        "for i in range(2000):\n",
        "    Lista0.append(i)\n",
        "\n",
        "def bB(Lista0, x): #parametros, lista y x que es el valor buscado\n",
        "    if len(Lista0) > 1: #tamaño de la lista es mayor que 1\n",
        "        n2 = int(len(Lista0) / 2) #Calcula indice a la mitad de la lista\n",
        "        e = Lista0[n2] #se asigna el valor en n2, a la e\n",
        "        if x < e: #elemento buscado es menor que e\n",
        "            return bB(Lista0[:n2], x) #si es menor, Bb a mitad de la izq de la lista\n",
        "        elif x > e: #sino que x es mayor que e\n",
        "            return bB(Lista0[n2 + 1:], x)  #Bb a la mitad der.\n",
        "        if x == e: #ai el valor buscado es igual a e\n",
        "            return True #verdadero\n",
        "    elif len(Lista0) == 1: #si la longitud de la lista es 1\n",
        "        if Lista0[0] == x: #el elemento de la lista es x\n",
        "            return True\n",
        "        else:\n",
        "            return False\n",
        "    else:\n",
        "        return False\n",
        "\n",
        "\n",
        "valor_a_buscar = 1543 #Qué valor quiero buscar\n",
        "resultado = bB(Lista0, valor_a_buscar) #se llama a bB\n",
        "\n",
        "#print(Lista0) #Lista0\n",
        "\n",
        "if resultado: #Si el número a buscar está\n",
        "    print(\"True.\")\n",
        "else: #si no está\n",
        "    print(\"False\")\n"
      ]
    }
  ]
}