{
  "nbformat": 4,
  "nbformat_minor": 0,
  "metadata": {
    "colab": {
      "provenance": [],
      "authorship_tag": "ABX9TyMBuOD92nPYX+a1GEMPZCIZ",
      "include_colab_link": true
    },
    "kernelspec": {
      "name": "python3",
      "display_name": "Python 3"
    },
    "language_info": {
      "name": "python"
    }
  },
  "cells": [
    {
      "cell_type": "markdown",
      "metadata": {
        "id": "view-in-github",
        "colab_type": "text"
      },
      "source": [
        "<a href=\"https://colab.research.google.com/github/karlavalentinbaena/Dise-o_Analisis_Algor/blob/main/B_Binaria.ipynb\" target=\"_parent\"><img src=\"https://colab.research.google.com/assets/colab-badge.svg\" alt=\"Open In Colab\"/></a>"
      ]
    },
    {
      "cell_type": "code",
      "execution_count": null,
      "metadata": {
        "id": "e-D_E1OFBfTa"
      },
      "outputs": [],
      "source": [
        "#Busqueda Binaria\n",
        "\n",
        "Lista0 = []\n",
        "\n",
        "for i in range(200000):\n",
        "    Lista0.append(1)\n",
        "\n",
        "def bB(Lista0, x):\n",
        "    if len(Lista0) > 1:\n",
        "        n2 = int(len(Lista0) / 2)\n",
        "        e = Lista0[n2]\n",
        "        if x < e:\n",
        "            return bB(Lista0[:n2], x)\n",
        "        elif x > e:\n",
        "            return bB(Lista0[n2:], x)\n",
        "        if x == e:\n",
        "            return True\n",
        "    elif len(Lista0) == 1:\n",
        "        if Lista0[0] == x:\n",
        "            return True\n",
        "        else:\n",
        "            return False\n",
        "    else:\n",
        "        return False\n",
        "\n",
        "\n",
        "valor_a_buscar = 1\n",
        "resultado = bB(Lista0, valor_a_buscar)\n",
        "\n",
        "if resultado:\n",
        "    print(f\"El valor {valor_a_buscar} está en la lista.\")\n",
        "else:\n",
        "    print(f\"El valor {valor_a_buscar} no está en la lista.\")\n"
      ]
    }
  ]
}