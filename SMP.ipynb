{
  "nbformat": 4,
  "nbformat_minor": 0,
  "metadata": {
    "colab": {
      "provenance": [],
      "authorship_tag": "ABX9TyOvFsCi8iIDF0bmsPAe7mmf",
      "include_colab_link": true
    },
    "kernelspec": {
      "name": "python3",
      "display_name": "Python 3"
    },
    "language_info": {
      "name": "python"
    }
  },
  "cells": [
    {
      "cell_type": "markdown",
      "metadata": {
        "id": "view-in-github",
        "colab_type": "text"
      },
      "source": [
        "<a href=\"https://colab.research.google.com/github/karlavalentinbaena/Dise-o_Analisis_Algor/blob/main/SMP.ipynb\" target=\"_parent\"><img src=\"https://colab.research.google.com/assets/colab-badge.svg\" alt=\"Open In Colab\"/></a>"
      ]
    },
    {
      "cell_type": "code",
      "source": [
        "def Parejas(hombres, mujeres, pref_hombres, pref_mujeres):\n",
        "    parejas_hombres = {}  # almacenar las parejas de los hombres\n",
        "\n",
        "    while hombres:\n",
        "        hombre = hombres.pop(0)\n",
        "        pref_hombre = pref_hombres[hombre]\n",
        "        mujer = pref_hombre.pop(0)\n",
        "\n",
        "        parejas_actual = parejas_hombres.get(mujer)\n",
        "        if parejas_actual is None:\n",
        "            # La mujer no está emparejada\n",
        "            parejas_hombres[mujer] = hombre\n",
        "        else:\n",
        "            # La mujer ya tiene pareja y se comparan las preferencias\n",
        "            pref_mujer = pref_mujeres[mujer]\n",
        "            if pref_mujer.index(parejas_actual) > pref_mujer.index(hombre):\n",
        "                parejas_hombres[mujer] = hombre\n",
        "                hombres.append(parejas_actual)\n",
        "\n",
        "    # Se verifica si alguo se quedó sin pareja\n",
        "    hombres_sin_pareja = [hombre for hombre in hombres if hombre not in parejas_hombres.values()]\n",
        "    for hombre in hombres_sin_pareja:\n",
        "        mujer_disponible = next((mujer for mujer in mujeres if hombre in pref_mujeres[mujer]), None)\n",
        "        if mujer_disponible is not None:\n",
        "            parejas_hombres[mujer_disponible] = hombre\n",
        "\n",
        "    return parejas_hombres\n",
        "\n",
        "hombres = ['n1', 'n2', 'n3', 'n4', 'n5']\n",
        "mujeres = ['k1', 'k2', 'k3', 'k4', 'k5']\n",
        "pref_hombres = {\n",
        "    'n1': ['k3', 'k2', 'k5', 'k1', 'k4'],\n",
        "    'n2': ['k2', 'k1', 'k3', 'k5', 'k4'],\n",
        "    'n3': ['k4', 'k2', 'k1', 'k3', 'k5'],\n",
        "    'n4': ['k5', 'k3', 'k2', 'k4', 'k1'],\n",
        "    'n5': ['k1', 'k3', 'k2', 'k4', 'k5'],\n",
        "}\n",
        "pref_mujeres = {\n",
        "    'k1': ['n2', 'n5', 'n4', 'n1', 'n3'],\n",
        "    'k2': ['n1', 'n3', 'n5', 'n2', 'n4'],\n",
        "    'k3': ['n1', 'n4', 'n5', 'n3', 'n2'],\n",
        "    'k4': ['n4', 'n3', 'n5', 'n1', 'n2'],\n",
        "    'k5': ['n3', 'n1', 'n5', 'n2', 'n4'],\n",
        "}\n",
        "\n",
        "parejas_estables = Parejas(hombres, mujeres, pref_hombres, pref_mujeres)\n",
        "\n",
        "for mujer, hombre in parejas_estables.items():\n",
        "    print(f\"{hombre} y {mujer}\")\n"
      ],
      "metadata": {
        "colab": {
          "base_uri": "https://localhost:8080/"
        },
        "id": "_igKYtBEhil_",
        "outputId": "d11d5702-92f6-4ef1-a94b-541812518e91"
      },
      "execution_count": null,
      "outputs": [
        {
          "output_type": "stream",
          "name": "stdout",
          "text": [
            "n1 y k3\n",
            "n2 y k2\n",
            "n3 y k4\n",
            "n4 y k5\n",
            "n5 y k1\n"
          ]
        }
      ]
    }
  ]
}