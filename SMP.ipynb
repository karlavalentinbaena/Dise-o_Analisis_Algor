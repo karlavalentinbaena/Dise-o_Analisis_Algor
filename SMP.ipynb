{
  "nbformat": 4,
  "nbformat_minor": 0,
  "metadata": {
    "colab": {
      "provenance": [],
      "authorship_tag": "ABX9TyOdlvgBUFl4xSqF4aIz7F8f",
      "include_colab_link": true
    },
    "kernelspec": {
      "name": "python3",
      "display_name": "Python 3"
    },
    "language_info": {
      "name": "python"
    }
  },
  "cells": [
    {
      "cell_type": "markdown",
      "metadata": {
        "id": "view-in-github",
        "colab_type": "text"
      },
      "source": [
        "<a href=\"https://colab.research.google.com/github/karlavalentinbaena/Dise-o_Analisis_Algor/blob/main/SMP.ipynb\" target=\"_parent\"><img src=\"https://colab.research.google.com/assets/colab-badge.svg\" alt=\"Open In Colab\"/></a>"
      ]
    },
    {
      "cell_type": "markdown",
      "source": [
        "#Stable Marriage Problem\n",
        "\n",
        "Sean N un conjunto de hombres y k un conjunto de mujeres con la misma cantidad de elemebtos que N (n). Encontrar un algoritmo eficiente que se encargue de generar un conjunto de parejas estables bajo la restricción de que cada elemnto de cada conjunto de parejas estables, tiene un ranking de prefrencia sobre cada elemento del conjunto opuesto. El conjunto de parejas estables contiene tantas parejas como elementos en cada conjunto (n), y ademas, ninguna está con una preferecnia más baja posible.\n",
        "\n",
        "Costo computacional: Creo que seria O(n^2( ya que puede que cada hombre tenga que comparar las preferencias con todas las mujeres si es que es el peor caso."
      ],
      "metadata": {
        "id": "8wXTmp9mgiyE"
      }
    },
    {
      "cell_type": "code",
      "source": [
        "#El código se hizo con lo visto en clase\n",
        "def Parejas(hombres, mujeres, pref_hombres, pref_mujeres):\n",
        "    parejas_hombres = {}  # se alamacenan las parejas de los hombres\n",
        "\n",
        "    while hombres:\n",
        "        #elprimer elem. se obtiene y se pasa a la var hombre\n",
        "        h = hombres.pop(0)\n",
        "        pref_hombre = pref_hombres[h] #lista pref hombre\n",
        "        #se elige a la primer mujer de las pref del hombre, se obtiene y luego elimina por el pop\n",
        "        m = pref_hombre.pop(0)\n",
        "        #Se obtiene la pareja de la mujer mediante parejas_hombres\n",
        "        parejas_actual = parejas_hombres.get(m)\n",
        "        if parejas_actual is None: #si no tiene pareja\n",
        "            parejas_hombres[m] = h #se empareja con un hombre\n",
        "        else:\n",
        "            pref_mujer = pref_mujeres[m] #preferencias de mujeres\n",
        "            #se compara la posición de la pareja actual y la posición del hombre\n",
        "            if pref_mujer.index(parejas_actual) > pref_mujer.index(h):\n",
        "                parejas_hombres[m] = h #se asigna a un hombre como pareja de una mujer\n",
        "                #la ex pareja se regresa a la lista de hombre para tratar de emparejarse otra vez\n",
        "                hombres.append(parejas_actual)\n",
        "\n",
        "    # Se ve si alguo se quedó sin pareja\n",
        "    hombres_sin_pareja = [h for h in hombres if h not in parejas_hombres.values()]\n",
        "    for h in hombres_sin_pareja: #se itera sobre los hombres sin pareja\n",
        "     #mujeres disponibles\n",
        "        mujer_disponible = next((m for m in mujeres if h in pref_mujeres[m]), None)\n",
        "        if mujer_disponible is not None: #se encontró alguien disponible\n",
        "            parejas_hombres[mujer_disponible] = h #se asigna a un hombre\n",
        "    return parejas_hombres #todas las parejas formadas\n",
        "\n",
        "hombres = ['n1', 'n2', 'n3', 'n4', 'n5'] #lista de hombres\n",
        "mujeres = ['k1', 'k2', 'k3', 'k4', 'k5'] #lista de mujeres\n",
        "#preferencias de la que es más compatible hasta la que menos:\n",
        "pref_hombres = {\n",
        "    'n1': ['k3', 'k2', 'k5', 'k1', 'k4'],\n",
        "    'n2': ['k2', 'k1', 'k3', 'k5', 'k4'],\n",
        "    'n3': ['k4', 'k2', 'k1', 'k3', 'k5'],\n",
        "    'n4': ['k5', 'k3', 'k2', 'k4', 'k1'],\n",
        "    'n5': ['k1', 'k3', 'k2', 'k4', 'k5'],\n",
        "}\n",
        "pref_mujeres = {\n",
        "    'k1': ['n2', 'n5', 'n4', 'n1', 'n3'],\n",
        "    'k2': ['n1', 'n3', 'n5', 'n2', 'n4'],\n",
        "    'k3': ['n1', 'n4', 'n5', 'n3', 'n2'],\n",
        "    'k4': ['n4', 'n3', 'n5', 'n1', 'n2'],\n",
        "    'k5': ['n3', 'n1', 'n5', 'n2', 'n4'],\n",
        "}\n",
        "\n",
        "parejas_estables = Parejas(hombres, mujeres, pref_hombres, pref_mujeres)\n",
        "\n",
        "for mujer, hombre in parejas_estables.items():\n",
        "    print(f\"{hombre} y {mujer}\")\n"
      ],
      "metadata": {
        "colab": {
          "base_uri": "https://localhost:8080/"
        },
        "id": "_igKYtBEhil_",
        "outputId": "a0ae97d8-8fef-4b9e-e63a-b421dfa781e2"
      },
      "execution_count": 4,
      "outputs": [
        {
          "output_type": "stream",
          "name": "stdout",
          "text": [
            "n1 y k3\n",
            "n2 y k2\n",
            "n3 y k4\n",
            "n4 y k5\n",
            "n5 y k1\n"
          ]
        }
      ]
    }
  ]
}